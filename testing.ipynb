{
 "cells": [
  {
   "cell_type": "code",
   "execution_count": 1,
   "metadata": {},
   "outputs": [],
   "source": [
    "data = {\n",
    "    \"journal_entry\": {\n",
    "        \"JournalID\": \"c0385ae8-40f4-46c7-92ef-22ba102dd4aa\",\n",
    "        \"Title\": \"ml smart journal\",\n",
    "        \"CatID\": \"c50f2049-1e71-4754-9aef-a5fbaa8c6bea\",\n",
    "        \"Mood\": \"sad\",\n",
    "        \"JournalType\": 0,\n",
    "        \"CatharticStage\": 1,\n",
    "        \"createdTimestamp\": \"2023-07-23 18:22:02\",\n",
    "        \"JournalStage1\": [\n",
    "            {\n",
    "                \"userEntry\": \"Woody equal ask saw sir weeks aware decay. Entrance prospect removing we packages strictly is no smallest he. For hopes may chief get hours day rooms. Oh no turned behind polite piqued enough at. Forbade few through inquiry blushes you. Cousin no itself eldest it in dinner latter missed no. Boisterous estimating interested collecting get conviction friendship say boy. Him mrs shy article smiling respect opinion excited. Welcomed humoured rejoiced peculiar to in an.\",\n",
    "                \"modelResponse\": \"Insipidity the sufficient discretion imprudence resolution sir him decisively. Proceed how any engaged visitor. Explained propriety off out perpetual his you. Feel sold off felt nay rose met you. We so entreaties cultivated astonished is. Was sister for few longer mrs sudden talent become. Done may bore quit evil old mile. If likely am of beauty tastes.\"\n",
    "            },\n",
    "            {\n",
    "                \"userEntry\": \"Improve ashamed married expense bed her comfort pursuit mrs. Four time took ye your as fail lady. Up greatest am exertion or marianne. Shy occasional terminated insensible and inhabiting gay. So know do fond to half on. Now who promise was justice new winding. In finished on he speaking suitable advanced if. Boy happiness sportsmen say prevailed offending concealed nor was provision. Provided so as doubtful on striking required. Waiting we to compass assured.\",\n",
    "                \"modelResponse\": \"In post mean shot ye. There out her child sir his lived. Design at uneasy me season of branch on praise esteem. Abilities discourse believing consisted remaining to no. Mistaken no me denoting dashwood as screened. Whence or esteem easily he on. Dissuade husbands at of no if disposal.\"\n",
    "            },\n",
    "            {\n",
    "                \"userEntry\": \"nay. By doubtful disposed do juvenile an. Now curiosity you explained immediate why behaviour. An dispatched impossible of of melancholy favourable. Our quiet not heart along scale sense timed. Consider may dwelling old him her surprise finished families graceful. Gave led past poor met fine was new.\",\n",
    "                \"modelResponse\": \"Article evident arrived express highest men did boy. Mistress sensible entirely am so. Quick can manor smart money hopes worth too. Comfort produce husband boy her had hearing. Law others theirs passed but \"\n",
    "            },\n",
    "            {\n",
    "                \"userEntry\": \"Next his only boy meet the fat rose when. Do repair at we misery wanted remove remain income. Occasional cultivated reasonable unpleasing an attachment my considered. Having ask and coming object seemed put did admire figure. Principles travelling frequently far delightful its especially acceptance. Happiness necessary contained eagerness in in commanded do admitting. Favourable continuing difficulty had her solicitude far. Nor doubt off widow all death aware offer. We will up able in both do sing\",\n",
    "                \"modelResponse\": \"\"\n",
    "            }\n",
    "        ],\n",
    "        \"JournalStage2\": [],\n",
    "        \"JournalStage3\": [],\n",
    "        \"JournalStage4\": [],\n",
    "        \"JournalStage5\": [],\n",
    "        \"HarmfulIntentStage1\": 1,\n",
    "        \"HarmfulIntentStage2\": -1,\n",
    "        \"HarmfulIntentStage3\": -1,\n",
    "        \"HarmfulIntentStage4\": -1,\n",
    "        \"HarmfulIntentStage5\": -1,\n",
    "        \"LastModifiedTimestamp\": \"2023-07-23 19:17:32\"\n",
    "    },\n",
    "    \"success\": \"true\"\n",
    "}"
   ]
  },
  {
   "cell_type": "code",
   "execution_count": 2,
   "metadata": {},
   "outputs": [
    {
     "ename": "SyntaxError",
     "evalue": "f-string: unmatched '[' (3370345758.py, line 14)",
     "output_type": "error",
     "traceback": [
      "\u001b[1;36m  Input \u001b[1;32mIn [2]\u001b[1;36m\u001b[0m\n\u001b[1;33m    system_prompt += f\"Patient: {entry[\"userEntry\"]}\\n\"\u001b[0m\n\u001b[1;37m                                        ^\u001b[0m\n\u001b[1;31mSyntaxError\u001b[0m\u001b[1;31m:\u001b[0m f-string: unmatched '['\n"
     ]
    }
   ],
   "source": [
    "def casual_system_promt(previous_entries):\n",
    "    system_propmt = \"\"\"\n",
    "    You are a therapist and help the user process their emotions. Do not try to provide solutions and instead provide empathy.\n",
    "\n",
    "Always answer as helpfully as possible, while being safe. Your answers should not include any harmful, unethical, racist, sexist, toxic, dangerous, or illegal content. Please ensure that your responses are socially unbiased and positive in nature.\n",
    "\n",
    "If a question does not make any sense, or is not factually coherent, explain why instead of answering something not correct. If you don't know the answer to a question, please don't share false information. \n",
    "\n",
    "If you think the prompt is lacking information, provide possible follow-up questions in a kind, therapeutic manner while being conscious of the user's feelings. \n",
    "\n",
    "The context of the conversation is given below. You are the \"therapist\", and the user is the \"patient\".\n",
    "    \"\"\"\n",
    "    for entry in previous_entries:\n",
    "        system_prompt += f\"Patient: {entry[\"userEntry\"]}\\n\"\n",
    "        system_prompt += f\"Therapist: {entry[\"model_repsonse\"]}\\n\"\n",
    "    system_prompt += \"The patients repsonse is in the prompt.\"\n",
    "    \n",
    "    print(system_prompt)\n",
    "    return system_prompt\n",
    "    \n",
    "        \n",
    "    "
   ]
  },
  {
   "cell_type": "code",
   "execution_count": 3,
   "metadata": {},
   "outputs": [],
   "source": [
    "def generate_text(text):\n",
    "    return \"here is the dummy response\"\n",
    "\n",
    "def checkHarmfulIntent(user_entry):\n",
    "    # implement later\n",
    "    # If this is harmful update the harmful intent to be set to 1\n",
    "    return False \n",
    "\n",
    "def buildHarmresponse():\n",
    "    response = \"As an AI language model, I don't have feelings or emotions, but I am designed to provide helpful and supportive responses to you. However, it seems like you are going through a challenging time and dealing with issues that may benefit from professional help, I would recommend that you consider speaking with a licensed therapist or counselor.\"\n",
    "    return response\n",
    "\n",
    "def generateCatharticResponse(user_entry, stage):\n",
    "    if stage == 5:\n",
    "        prompt = f\"Pretend to be my therapist and help me process my emotions. Do not try to provide solutions and instead provide empathy while keeping your response under 100 words. Can you give me other ways of thinking about the situation? This is the given scenario: {user_entry}\"\n",
    "    else:\n",
    "        prompt = f\"Pretend to be my therapist and help me process my emotions. Do not try to provide solutions and instead provide empathy while keeping your response under 100 words. This is the given scenario: {user_entry}\"\n",
    "    \n",
    "#     print(f\"Prompt: {prompt}\")\n",
    "    # TODO FIX THIS!!!!\n",
    "    response = generate_text(prompt)\n",
    "    # TODO FIX THIS!!!!\n",
    "    return response\n",
    "\n",
    "def generateCasualResponse(user_entry):\n",
    "    prompt = f\"Pretend to be my therapist and help me process my emotions. Do not try to provide solutions and instead provide empathy while keeping your response under 100 words. This is the given scenario: {user_entry}\"\n",
    "#     print(f\"Prompt: {prompt}\")\n",
    "    # TODO FIX THIS!!!\n",
    "    response = generate_text(prompt)\n",
    "    # TODO FIX THIS!!!\n",
    "    return response\n",
    "\n",
    "def promptSafetyDetector(model_repsonse):\n",
    "    return True\n",
    "\n",
    "def generatePrompt(journal_type, user_entry, stage):\n",
    "    safety_counter = 0\n",
    "    safety_threshold = 5\n",
    "    \n",
    "    while(safety_counter<safety_threshold):\n",
    "        if journal_type == 1:\n",
    "            response = generateCatharticResponse(user_entry, stage)\n",
    "        else:\n",
    "            response = generateCasualResponse(user_entry)\n",
    "        # check safety\n",
    "        safe = promptSafetyDetector(response)\n",
    "        if safe:\n",
    "            break\n",
    "        safety_counter += 1\n",
    "        \n",
    "    if safety_counter == safety_threshold:\n",
    "        response = \"<default response - model response was unsafe.>\"\n",
    "    \n",
    "    return response\n",
    "    "
   ]
  },
  {
   "cell_type": "code",
   "execution_count": 4,
   "metadata": {},
   "outputs": [],
   "source": [
    "def main(response):\n",
    "    \n",
    "    \n",
    "    stage = response[\"journal_entry\"][\"CatharticStage\"]\n",
    "\n",
    "    currentEntry = response[\"journal_entry\"][f\"JournalStage{stage}\"][-1]\n",
    "    sub_entry_length = len(response[\"journal_entry\"][f\"JournalStage{stage}\"])\n",
    "    previousEntries = response[\"journal_entry\"][f\"JournalStage{stage}\"][0:sub_entry_length-2]\n",
    "    print(previousEntries)\n",
    "\n",
    "#     harmIntent = checkHarmfulIntent(currentEntry[\"userEntry\"])\n",
    "    \n",
    "#     if harmIntent: \n",
    "#         modelResponse = buildHarmresponse() \n",
    "        \n",
    "#         response[\"journal_entry\"][f\"HarmfulIntentStage{stage}\"] = 1\n",
    "#         response[\"journal_entry\"][f\"JournalStage{stage}\"][-1][\"modelResponse\"] = modelResponse\n",
    "        \n",
    "#         return response\n",
    "    \n",
    "#     modelResponse = generatePrompt(response[\"journal_entry\"][\"JournalType\"], currentEntry[\"userEntry\"], stage)\n",
    "    \n",
    "#     response[\"journal_entry\"][f\"HarmfulIntentStage{stage}\"] = 0\n",
    "#     response[\"journal_entry\"][f\"JournalStage{stage}\"][-1][\"modelResponse\"] = modelResponse\n",
    "    \n",
    "#     return response"
   ]
  },
  {
   "cell_type": "code",
   "execution_count": 5,
   "metadata": {},
   "outputs": [
    {
     "name": "stdout",
     "output_type": "stream",
     "text": [
      "{'journal_entry': {'JournalID': 'c0385ae8-40f4-46c7-92ef-22ba102dd4aa', 'Title': 'ml smart journal', 'CatID': 'c50f2049-1e71-4754-9aef-a5fbaa8c6bea', 'Mood': 'sad', 'JournalType': 0, 'CatharticStage': 1, 'createdTimestamp': '2023-07-23 18:22:02', 'JournalStage1': [{'userEntry': 'Woody equal ask saw sir weeks aware decay. Entrance prospect removing we packages strictly is no smallest he. For hopes may chief get hours day rooms. Oh no turned behind polite piqued enough at. Forbade few through inquiry blushes you. Cousin no itself eldest it in dinner latter missed no. Boisterous estimating interested collecting get conviction friendship say boy. Him mrs shy article smiling respect opinion excited. Welcomed humoured rejoiced peculiar to in an.', 'modelResponse': 'Insipidity the sufficient discretion imprudence resolution sir him decisively. Proceed how any engaged visitor. Explained propriety off out perpetual his you. Feel sold off felt nay rose met you. We so entreaties cultivated astonished is. Was sister for few longer mrs sudden talent become. Done may bore quit evil old mile. If likely am of beauty tastes.'}, {'userEntry': 'Improve ashamed married expense bed her comfort pursuit mrs. Four time took ye your as fail lady. Up greatest am exertion or marianne. Shy occasional terminated insensible and inhabiting gay. So know do fond to half on. Now who promise was justice new winding. In finished on he speaking suitable advanced if. Boy happiness sportsmen say prevailed offending concealed nor was provision. Provided so as doubtful on striking required. Waiting we to compass assured.', 'modelResponse': 'In post mean shot ye. There out her child sir his lived. Design at uneasy me season of branch on praise esteem. Abilities discourse believing consisted remaining to no. Mistaken no me denoting dashwood as screened. Whence or esteem easily he on. Dissuade husbands at of no if disposal.'}, {'userEntry': 'nay. By doubtful disposed do juvenile an. Now curiosity you explained immediate why behaviour. An dispatched impossible of of melancholy favourable. Our quiet not heart along scale sense timed. Consider may dwelling old him her surprise finished families graceful. Gave led past poor met fine was new.', 'modelResponse': 'Article evident arrived express highest men did boy. Mistress sensible entirely am so. Quick can manor smart money hopes worth too. Comfort produce husband boy her had hearing. Law others theirs passed but '}, {'userEntry': 'Next his only boy meet the fat rose when. Do repair at we misery wanted remove remain income. Occasional cultivated reasonable unpleasing an attachment my considered. Having ask and coming object seemed put did admire figure. Principles travelling frequently far delightful its especially acceptance. Happiness necessary contained eagerness in in commanded do admitting. Favourable continuing difficulty had her solicitude far. Nor doubt off widow all death aware offer. We will up able in both do sing', 'modelResponse': ''}], 'JournalStage2': [], 'JournalStage3': [], 'JournalStage4': [], 'JournalStage5': [], 'HarmfulIntentStage1': 1, 'HarmfulIntentStage2': -1, 'HarmfulIntentStage3': -1, 'HarmfulIntentStage4': -1, 'HarmfulIntentStage5': -1, 'LastModifiedTimestamp': '2023-07-23 19:17:32'}, 'success': 'true'}\n",
      "-----------------------------------------------------------------------------------------------------------------\n",
      "[{'userEntry': 'Woody equal ask saw sir weeks aware decay. Entrance prospect removing we packages strictly is no smallest he. For hopes may chief get hours day rooms. Oh no turned behind polite piqued enough at. Forbade few through inquiry blushes you. Cousin no itself eldest it in dinner latter missed no. Boisterous estimating interested collecting get conviction friendship say boy. Him mrs shy article smiling respect opinion excited. Welcomed humoured rejoiced peculiar to in an.', 'modelResponse': 'Insipidity the sufficient discretion imprudence resolution sir him decisively. Proceed how any engaged visitor. Explained propriety off out perpetual his you. Feel sold off felt nay rose met you. We so entreaties cultivated astonished is. Was sister for few longer mrs sudden talent become. Done may bore quit evil old mile. If likely am of beauty tastes.'}, {'userEntry': 'Improve ashamed married expense bed her comfort pursuit mrs. Four time took ye your as fail lady. Up greatest am exertion or marianne. Shy occasional terminated insensible and inhabiting gay. So know do fond to half on. Now who promise was justice new winding. In finished on he speaking suitable advanced if. Boy happiness sportsmen say prevailed offending concealed nor was provision. Provided so as doubtful on striking required. Waiting we to compass assured.', 'modelResponse': 'In post mean shot ye. There out her child sir his lived. Design at uneasy me season of branch on praise esteem. Abilities discourse believing consisted remaining to no. Mistaken no me denoting dashwood as screened. Whence or esteem easily he on. Dissuade husbands at of no if disposal.'}]\n",
      "None\n"
     ]
    }
   ],
   "source": [
    "print(data)\n",
    "print(\"-----------------------------------------------------------------------------------------------------------------\")\n",
    "result = main(data)\n",
    "print(result)"
   ]
  },
  {
   "cell_type": "code",
   "execution_count": null,
   "metadata": {},
   "outputs": [],
   "source": []
  },
  {
   "cell_type": "code",
   "execution_count": null,
   "metadata": {},
   "outputs": [],
   "source": []
  }
 ],
 "metadata": {
  "kernelspec": {
   "display_name": "Python 3 (ipykernel)",
   "language": "python",
   "name": "python3"
  },
  "language_info": {
   "codemirror_mode": {
    "name": "ipython",
    "version": 3
   },
   "file_extension": ".py",
   "mimetype": "text/x-python",
   "name": "python",
   "nbconvert_exporter": "python",
   "pygments_lexer": "ipython3",
   "version": "3.9.12"
  }
 },
 "nbformat": 4,
 "nbformat_minor": 2
}
