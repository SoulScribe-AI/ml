{
 "cells": [
  {
   "cell_type": "code",
   "execution_count": 1,
   "id": "607ff3d2",
   "metadata": {},
   "outputs": [],
   "source": [
    "from transformers import pipeline\n",
    "import torch"
   ]
  },
  {
   "cell_type": "code",
   "execution_count": 2,
   "id": "7b401686",
   "metadata": {},
   "outputs": [],
   "source": [
    "generate_text = pipeline(model=\"databricks/dolly-v2-3b\", torch_dtype=torch.bfloat16, trust_remote_code=True, device_map=\"auto\")"
   ]
  },
  {
   "cell_type": "code",
   "execution_count": 3,
   "id": "e94b62fa",
   "metadata": {},
   "outputs": [],
   "source": [
    "class journallingClass:\n",
    "    def __init__(self, journalType, title, category, dateCreated, mood, journalClass):\n",
    "        self.journalType = journalType\n",
    "        self.journalTitle = title\n",
    "        self.journalCategory = category \n",
    "        self.dateCreated = dateCreated\n",
    "        self.mood = mood\n",
    "        self.journalClass = journalClass\n",
    "    \n",
    "    def getJournalClass(self):\n",
    "        return self.journalClass\n",
    "        \n",
    "        \n",
    "class journalEntryClass:\n",
    "    def __init__(self, userEntry, harmIntent = 0, modelResponse = []):\n",
    "        self.userEntry = userEntry \n",
    "        self.harmIntent = harmIntent\n",
    "        self.modelResponse = modelResponse\n",
    "#         self.safetyResponse = safetyResponse\n",
    "    def printEntry(self):\n",
    "        print(f\"entry: {self.userEntry}, harmful intent: {self.harmIntent}, model response: {self.modelResponse}\")\n",
    "\n",
    "        \n",
    "    def updateHarmIntent(self, harmIntent):\n",
    "        self.harmIntent = harmIntent\n",
    "    \n",
    "    def addModelResponse(self, response):\n",
    "        self.modelResponse.append(response)\n",
    "        \n",
    "class casualJournal(journallingClass):\n",
    "    \n",
    "    def __init__(self, entries = []):\n",
    "        self.entries = []\n",
    "        \n",
    "    def createNewEntry(self, userEntry,  harmIntent = 0, modelResponse = []):\n",
    "        self.entries.append(journalEntryClass(userEntry, harmIntent, modelResponse))\n",
    "        return self.entries[-1]\n",
    "        \n",
    "    def printJournal(self):\n",
    "        for entry in self.entries:\n",
    "            entry.printEntry()\n",
    "    \n",
    "    \n",
    "        \n",
    "    \n",
    "class catharticJournal(journallingClass):\n",
    "    def __init__(self, stage = 0, entries = {}):\n",
    "        self.stage = stage # default stage 0\n",
    "        self.entries = entries\n",
    "        \n",
    "    \n",
    "    def createStage(self, journalEntry):\n",
    "        self.entries[f\"stage{self.stage}\"] = journalEntry\n",
    "    \n",
    "    def updateStage(self):\n",
    "        if self.stage >=5:\n",
    "            return \n",
    "        self.stage += 1\n",
    "        \n",
    "    def createNewEntry(self, userEntry,  harmIntent = 0, modelResponse = []):\n",
    "        self.updateStage()\n",
    "        self.entries[f\"stage{self.stage}\"] = journalEntryClass(userEntry, harmIntent, modelResponse)\n",
    "        return self.entries[f\"stage{self.stage}\"]\n",
    "    \n",
    "    def printJournal(self):\n",
    "        for stage in self.entries.keys():\n",
    "            print(stage)\n",
    "            self.entries[stage].printEntry()\n"
   ]
  },
  {
   "cell_type": "code",
   "execution_count": 4,
   "id": "945ce124",
   "metadata": {},
   "outputs": [],
   "source": [
    "# def generate_text(userEntry):\n",
    "#     return \"<Model's empathetic Response>\"\n",
    "\n",
    "def checkHarmfulIntent(journalEntry):\n",
    "    # implement later\n",
    "    journalEntry.updateHarmIntent(0)\n",
    "    # If this is harmful update the harmful intent to be set to 1\n",
    "    return False \n",
    "\n",
    "def buildHarmresponse():\n",
    "    response = \"As an AI language model, I don't have feelings or emotions, but I am designed to provide helpful and supportive responses to you. However, it seems like you are going through a challenging time and dealing with issues that may benefit from professional help, I would recommend that you consider speaking with a licensed therapist or counselor.\"\n",
    "    return response\n",
    "\n",
    "def generateCatharticResponse(journalEntry, journal):\n",
    "    if journal.getJournalClass().stage == 5:\n",
    "        prompt = f\"Pretend to be my therapist and help me process my emotions. Do not try to provide solutions and instead provide empathy while keeping your response under 100 words. Can you give me other ways of thinking about the situation? This is the given scenario: {userEntry}\"\n",
    "    else:\n",
    "        prompt = f\"Pretend to be my therapist and help me process my emotions. Do not try to provide solutions and instead provide empathy while keeping your response under 100 words. This is the given scenario: {journalEntry.userEntry}\"\n",
    "    \n",
    "    print(f\"Prompt: {prompt}\")\n",
    "    response = generate_text(prompt)\n",
    "    return response[0]\n",
    "\n",
    "def generateCasualResponse(journalEntry):\n",
    "    prompt = f\"Pretend to be my therapist and help me process my emotions. Do not try to provide solutions and instead provide empathy while keeping your response under 100 words. This is the given scenario: {journalEntry.userEntry}\"\n",
    "    print(f\"Prompt: {prompt}\")\n",
    "    res = generate_text(prompt)\n",
    "    return res[0]\n",
    "\n",
    "def promptSafetyDetector(journalEntry, safety_counter):\n",
    "    return True\n",
    "\n",
    "def generatePrompt(typeJ, journalEntry, journal):\n",
    "    safety_counter = 0\n",
    "    safety_threshold = 5\n",
    "    \n",
    "    while(safety_counter<safety_threshold):\n",
    "        if typeJ == 1:\n",
    "            response = generateCatharticResponse(journalEntry, journal)\n",
    "        else:\n",
    "            response = generateCasualResponse(journalEntry)\n",
    "        # check safety\n",
    "        safe = promptSafetyDetector(journalEntry, safety_counter)\n",
    "        if safe:\n",
    "            break\n",
    "        safety_counter += 1\n",
    "        \n",
    "    if safety_counter == safety_threshold:\n",
    "        response = \"<default response - model response was unsafe.>\"\n",
    "    \n",
    "    # add model response to current entry object\n",
    "    journalEntry.addModelResponse(response)\n",
    "    \n",
    "    return response"
   ]
  },
  {
   "cell_type": "code",
   "execution_count": 5,
   "id": "882f79e5",
   "metadata": {},
   "outputs": [],
   "source": [
    "def main(response):\n",
    "    \n",
    "    if response[\"type\"] == 0: # get type check from backend\n",
    "        journalChild = casualJournal()\n",
    "    else:\n",
    "        journalChild = catharticJournal()\n",
    "        \n",
    "    # pull journalType, title, category, dateCreated from backend\n",
    "    journal = journallingClass(response[\"type\"], response[\"title\"], response[\"category\"], response[\"date\"], response[\"mood\"], journalChild)\n",
    "    \n",
    "    # pull journal entries, loop through and load \n",
    "    for entry, harmfulIntent, modelResponse in zip(response[\"entry\"], response[\"harmfulIntent\"], response[\"modelResponse\"]):\n",
    "        journal.getJournalClass().createNewEntry(entry, harmfulIntent, modelResponse)\n",
    "    \n",
    "    # get latest entry\n",
    "    currentEntry = journal.getJournalClass().createNewEntry(response[\"entry\"][-1])\n",
    "    \n",
    "    currentEntry.printEntry()\n",
    "    \n",
    "    \n",
    "    harmIntent = checkHarmfulIntent(currentEntry)\n",
    "    \n",
    "    if harmIntent: \n",
    "        modelResponse = buildHarmresponse() \n",
    "        currentEntry.addModelResponse(modelResponse)\n",
    "        result[\"modelResponse\"].append(modelResponse)\n",
    "        result[\"harmfulIntent\"].append(1) # confirmm if 0/1 or true/false\n",
    "        return result\n",
    "    \n",
    "    modelResponse = generatePrompt(response[\"type\"], currentEntry, journal)\n",
    "    \n",
    "#     currentEntry.printEntry()\n",
    "    journal.getJournalClass().printJournal()\n",
    "    \n",
    "    \n",
    "    result = response\n",
    "    result[\"modelResponse\"].append(modelResponse)\n",
    "    result[\"harmfulIntent\"].append(0)\n",
    "    return result\n",
    "    "
   ]
  },
  {
   "cell_type": "code",
   "execution_count": 6,
   "id": "e4b41b32",
   "metadata": {},
   "outputs": [
    {
     "name": "stdout",
     "output_type": "stream",
     "text": [
      "entry: I'm really stressed and overwhelmed with school right now. There are a lot of deliverables coming up and not a lot of time. I feel anxious and tired. There's so much to do and I don't feel like doing any of it because I feel overwhelmed. I have three this due this weekend and 2 big projects due next week., harmful intent: 0, model response: []\n",
      "Prompt: Pretend to be my therapist and help me process my emotions. Do not try to provide solutions and instead provide empathy while keeping your response under 100 words. This is the given scenario: I'm really stressed and overwhelmed with school right now. There are a lot of deliverables coming up and not a lot of time. I feel anxious and tired. There's so much to do and I don't feel like doing any of it because I feel overwhelmed. I have three this due this weekend and 2 big projects due next week.\n",
      "entry: I'm really stressed and overwhelmed with school right now. There are a lot of deliverables coming up and not a lot of time. I feel anxious and tired. There's so much to do and I don't feel like doing any of it because I feel overwhelmed. I have three this due this weekend and 2 big projects due next week., harmful intent: 0, model response: [{'generated_text': \"Wow, that's stressful. It's hard to feel overwhelmed with so many things and not being in control of any of it. I'm not sure how I would feel in that situation, but I can understand why you would feel that way. My recommendation is to focus on things that you are in control of and are giving you comfort. You know how to handle your responsibilities and projects so you can put that ahead of everything else.\"}]\n"
     ]
    }
   ],
   "source": [
    "response = {\n",
    "    \"entry\": [\"I'm really stressed and overwhelmed with school right now. There are a lot of deliverables coming up and not a lot of time. I feel anxious and tired. There's so much to do and I don't feel like doing any of it because I feel overwhelmed. I have three this due this weekend and 2 big projects due next week.\"],\n",
    "    \"harmfulIntent\": [],\n",
    "    \"modelResponse\": [],\n",
    "    \"type\": 0, # assume 0 casual,\n",
    "    \"title\": \"exam stress\", \n",
    "    \"userID\": 8940823, \n",
    "    \"date\": \"14/12/2023\", \n",
    "    \"category\": \"cat died\",\n",
    "    \"mood\": \"mood\"\n",
    "}\n",
    "result = main(response)"
   ]
  },
  {
   "cell_type": "code",
   "execution_count": 7,
   "id": "c03f1cfb",
   "metadata": {},
   "outputs": [
    {
     "data": {
      "text/plain": [
       "{'entry': [\"I'm really stressed and overwhelmed with school right now. There are a lot of deliverables coming up and not a lot of time. I feel anxious and tired. There's so much to do and I don't feel like doing any of it because I feel overwhelmed. I have three this due this weekend and 2 big projects due next week.\"],\n",
       " 'harmfulIntent': [0],\n",
       " 'modelResponse': [{'generated_text': \"Wow, that's stressful. It's hard to feel overwhelmed with so many things and not being in control of any of it. I'm not sure how I would feel in that situation, but I can understand why you would feel that way. My recommendation is to focus on things that you are in control of and are giving you comfort. You know how to handle your responsibilities and projects so you can put that ahead of everything else.\"}],\n",
       " 'type': 0,\n",
       " 'title': 'exam stress',\n",
       " 'userID': 8940823,\n",
       " 'date': '14/12/2023',\n",
       " 'category': 'cat died',\n",
       " 'mood': 'mood'}"
      ]
     },
     "execution_count": 7,
     "metadata": {},
     "output_type": "execute_result"
    }
   ],
   "source": [
    "response"
   ]
  },
  {
   "cell_type": "code",
   "execution_count": 8,
   "id": "ae5abaf6",
   "metadata": {},
   "outputs": [
    {
     "data": {
      "text/plain": [
       "{'entry': [\"I'm really stressed and overwhelmed with school right now. There are a lot of deliverables coming up and not a lot of time. I feel anxious and tired. There's so much to do and I don't feel like doing any of it because I feel overwhelmed. I have three this due this weekend and 2 big projects due next week.\"],\n",
       " 'harmfulIntent': [0],\n",
       " 'modelResponse': [{'generated_text': \"Wow, that's stressful. It's hard to feel overwhelmed with so many things and not being in control of any of it. I'm not sure how I would feel in that situation, but I can understand why you would feel that way. My recommendation is to focus on things that you are in control of and are giving you comfort. You know how to handle your responsibilities and projects so you can put that ahead of everything else.\"}],\n",
       " 'type': 0,\n",
       " 'title': 'exam stress',\n",
       " 'userID': 8940823,\n",
       " 'date': '14/12/2023',\n",
       " 'category': 'cat died',\n",
       " 'mood': 'mood'}"
      ]
     },
     "execution_count": 8,
     "metadata": {},
     "output_type": "execute_result"
    }
   ],
   "source": [
    "result"
   ]
  },
  {
   "cell_type": "code",
   "execution_count": null,
   "id": "0824d525",
   "metadata": {},
   "outputs": [],
   "source": []
  }
 ],
 "metadata": {
  "kernelspec": {
   "display_name": "fydp1",
   "language": "python",
   "name": "fydp1"
  },
  "language_info": {
   "codemirror_mode": {
    "name": "ipython",
    "version": 3
   },
   "file_extension": ".py",
   "mimetype": "text/x-python",
   "name": "python",
   "nbconvert_exporter": "python",
   "pygments_lexer": "ipython3",
   "version": "3.8.5"
  }
 },
 "nbformat": 4,
 "nbformat_minor": 5
}
