{
 "cells": [
  {
   "cell_type": "code",
   "execution_count": 1,
   "id": "582c8069",
   "metadata": {},
   "outputs": [],
   "source": [
    "from transformers import pipeline\n",
    "import torch"
   ]
  },
  {
   "cell_type": "code",
   "execution_count": 3,
   "id": "7840fcbd",
   "metadata": {},
   "outputs": [],
   "source": [
    "class journallingClass:\n",
    "    def __init__(self, journalType, title, category, dateCreated, mood, journalClass):\n",
    "        self.journalType = journalType\n",
    "        self.journalTitle = title\n",
    "        self.journalCategory = category \n",
    "        self.dateCreated = dateCreated\n",
    "        self.mood = mood\n",
    "        self.journalClass = journalClass\n",
    "    \n",
    "    def getJournalClass(self):\n",
    "        return self.journalClass\n",
    "        \n",
    "        \n",
    "class journalEntryClass:\n",
    "    def __init__(self, userEntry, harmIntent = 0, modelResponse = []):\n",
    "        self.userEntry = userEntry \n",
    "        self.harmIntent = harmIntent\n",
    "        self.modelResponse = modelResponse\n",
    "#         self.safetyResponse = safetyResponse\n",
    "    def printEntry(self):\n",
    "        print(f\"entry: {self.userEntry}, harmful intent: {self.harmIntent}, model response: {self.modelResponse}\")\n",
    "\n",
    "        \n",
    "    def updateHarmIntent(self, harmIntent):\n",
    "        self.harmIntent = harmIntent\n",
    "    \n",
    "    def addModelResponse(self, response):\n",
    "        self.modelResponse.append(response)\n",
    "        \n",
    "class casualJournal(journallingClass):\n",
    "    \n",
    "    def __init__(self, entries = []):\n",
    "        self.entries = []\n",
    "        \n",
    "    def createNewEntry(self, userEntry,  harmIntent = 0, modelResponse = []):\n",
    "        self.entries.append(journalEntryClass(userEntry, harmIntent, modelResponse))\n",
    "        return self.entries[-1]\n",
    "        \n",
    "    def printJournal(self):\n",
    "        for entry in self.entries:\n",
    "            entry.printEntry()\n",
    "    \n",
    "    \n",
    "        \n",
    "    \n",
    "class catharticJournal(journallingClass):\n",
    "    def __init__(self, stage = 0, entries = {}):\n",
    "        self.stage = stage # default stage 0\n",
    "        self.entries = entries\n",
    "        \n",
    "    \n",
    "    def createStage(self, journalEntry):\n",
    "        self.entries[f\"stage{self.stage}\"] = journalEntry\n",
    "    \n",
    "    def updateStage(self):\n",
    "        if self.stage >=5:\n",
    "            return \n",
    "        self.stage += 1\n",
    "        \n",
    "    def createNewEntry(self, userEntry,  harmIntent = 0, modelResponse = []):\n",
    "        self.updateStage()\n",
    "        self.entries[f\"stage{self.stage}\"] = journalEntryClass(userEntry, harmIntent, modelResponse)\n",
    "        return self.entries[f\"stage{self.stage}\"]\n",
    "    \n",
    "    def printJournal(self):\n",
    "        for stage in self.entries.keys():\n",
    "            print(stage)\n",
    "            self.entries[stage].printEntry()\n"
   ]
  },
  {
   "cell_type": "markdown",
   "id": "caab54b7",
   "metadata": {},
   "source": [
    "### Note\n",
    "* what is it is empty \n",
    "* new entry"
   ]
  },
  {
   "cell_type": "code",
   "execution_count": 23,
   "id": "8b7e8d2e",
   "metadata": {},
   "outputs": [],
   "source": [
    "response = {\n",
    "    \"entry\": [\"journal entry 1\", \"journal entry 2\", \"Jonny's cat died today, it makes me feel sad. Can you provide some empathy\"],\n",
    "    \"harmfulIntent\": [0,0],\n",
    "    \"modelResponse\": [\"model response\", [\"mr 2.1\", \"mr 2.2\"]],\n",
    "    \"type\": 0, # assume 0 casual,\n",
    "    \"title\": \"johny's cat died\", \n",
    "    \"userID\": 8940823, \n",
    "    \"date\": \"14/12/2023\", \n",
    "    \"category\": \"cat died\",\n",
    "    \"mood\": \"mood\"\n",
    "}"
   ]
  },
  {
   "cell_type": "code",
   "execution_count": 24,
   "id": "28c898c8",
   "metadata": {},
   "outputs": [],
   "source": [
    "def main():\n",
    "    \n",
    "    if response[\"type\"] == 0: # get type check from backend\n",
    "        journalChild = casualJournal()\n",
    "    else:\n",
    "        journalChild = catharticJournal()\n",
    "        \n",
    "    # pull journalType, title, category, dateCreated from backend\n",
    "    journal = journallingClass(response[\"type\"], response[\"title\"], response[\"category\"], response[\"date\"], response[\"mood\"], journalChild)\n",
    "    \n",
    "    # pull journal entries, loop through and load \n",
    "    for entry, harmfulIntent, modelResponse in zip(response[\"entry\"], response[\"harmfulIntent\"], response[\"modelResponse\"]):\n",
    "        journal.getJournalClass().createNewEntry(entry, harmfulIntent, modelResponse)\n",
    "    \n",
    "    # get latest entry\n",
    "    currentEntry = journal.getJournalClass().createNewEntry(response[\"entry\"][-1])\n",
    "    \n",
    "    currentEntry.printEntry()\n",
    "    \n",
    "    \n",
    "    harmIntent = checkHarmfulIntent(currentEntry)\n",
    "    \n",
    "    if harmIntent: \n",
    "        modelResponse = buildHarmresponse() \n",
    "        currentEntry.addModelResponse(modelResponse)\n",
    "        return \n",
    "    \n",
    "    modelResponse = generatePrompt(response[\"type\"], currentEntry)\n",
    "    \n",
    "    \n",
    "    \n",
    "    "
   ]
  },
  {
   "cell_type": "code",
   "execution_count": 26,
   "id": "6fbebd2b",
   "metadata": {},
   "outputs": [],
   "source": [
    "def checkHarmfulIntent(journalEntry):\n",
    "    # implement later\n",
    "    journalEntry.updateHarmIntent(0)\n",
    "    return False \n",
    "\n",
    "def buildHarmresponse():\n",
    "    response = \"Reach out to a therapist :)\"\n",
    "    return response\n",
    "\n",
    "def generateCatharticResponse(journalEntry):\n",
    "    return \"this is a cathartic response\"\n",
    "\n",
    "def generateCasualResponse(journalEntry):\n",
    "    print(journalEntry.userEntry)\n",
    "    prompt = \n",
    "    res = generate_text(journalEntry.userEntry)\n",
    "    print(res)\n",
    "    return res[0]\n",
    "\n",
    "def promptSafetyDetector(journalEntry, safety_counter):\n",
    "    # remove safety_counter after testing\n",
    "    if safety_counter < 3\n",
    "        return False\n",
    "    return True\n",
    "\n",
    "def generatePrompt(typeJ, journalEntry):\n",
    "    safety_counter = 0\n",
    "    \n",
    "    while(safety_counter<5):\n",
    "        if typeJ == 1:\n",
    "            response = generateCatharticResponse(journalEntry)\n",
    "        else:\n",
    "            response = generateCasualResponse(journalEntry)\n",
    "        # check safety\n",
    "        safe = promptSafetyDetector(journalEntry, safety_counter)\n",
    "        safety_counter += 1\n",
    "        \n",
    "        if safe:\n",
    "            break\n",
    "            \n",
    "    if safety_counter > 5:\n",
    "        response = \"default response - model response was unsafe.\"\n",
    "    \n",
    "    # add model response to current entry object\n",
    "    currentEntry.addModelResponse(response)\n",
    "    \n",
    "    return response"
   ]
  },
  {
   "cell_type": "code",
   "execution_count": 27,
   "id": "3bcdbef8",
   "metadata": {},
   "outputs": [
    {
     "name": "stdout",
     "output_type": "stream",
     "text": [
      "hi Jonny's cat died today, it makes me feel sad. Can you provide some empathy done\n",
      "entry: Jonny's cat died today, it makes me feel sad. Can you provide some empathy, harmful intent: 0, model response: []\n",
      "Jonny's cat died today, it makes me feel sad. Can you provide some empathy\n",
      "[{'generated_text': \"Yes of course, I'm so sorry to hear that. I imagine the feeling of losing a companion is difficult, and as a fellow pet owner I can sympathize with your loss. Perhaps you can talk to him/her now, or consider getting a support animal (e.g. a dog) to accompany you while you grieve.\"}]\n"
     ]
    }
   ],
   "source": [
    "main()"
   ]
  },
  {
   "cell_type": "markdown",
   "id": "b3c2456f",
   "metadata": {},
   "source": [
    "## Testing Scenario 1\n",
    "\n",
    "Scenario: Johnny broke up with me and I feel so sad... I really liked him and we have been together for 3 years now. I didn't see this coming.\n"
   ]
  },
  {
   "cell_type": "code",
   "execution_count": 6,
   "id": "03113fb5",
   "metadata": {},
   "outputs": [
    {
     "name": "stdout",
     "output_type": "stream",
     "text": [
      "Promt: Pretend to be my therapist and help me process my emotions and provide empathy for the following scenario: Johnny broke up with me and I feel so sad... I really liked him and we have been together for 3 years now. I didn't see this coming..\n",
      "Response: {'generated_text': \"This is a tough one, but I would like to help you process your emotions and provide empathy for this situation. You're really upset that he broke up with you and you feel like you'll never get over this.  I can understand why you feel this way.  I myself have been in your shoes many times in the past and felt the same way.  When someone we care about breaks up with us, it hurts really bad.  When it happens to us, we often spend a lot of time daydreaming about what could have been.  Instead of worrying about what might happen, try to put yourself in Johnny's shoes and think about how you could have explained this to him differently to help him know you'll always be his friend.  If you had said the things that you wish you had said, things could have been different.  Maybe he needed to take some time to mull things over, instead of jumping into a decision like this right away.  The best thing you can do now is just remember how much you loved him and try not to lose heart.\"}\n"
     ]
    }
   ],
   "source": [
    "userEntry = \"Johnny broke up with me and I feel so sad... I really liked him and we have been together for 3 years now. I didn't see this coming.\"\n",
    "\n",
    "prompt = f\"Pretend to be my therapist and help me process my emotions and provide empathy for the following scenario: {userEntry}.\"\n",
    "\n",
    "print(f\"Promt: {prompt}\")\n",
    "\n",
    "res = generate_text(prompt)\n",
    "\n",
    "print(f\"Response: {res[0]}\")"
   ]
  },
  {
   "cell_type": "markdown",
   "id": "a5e8918a",
   "metadata": {},
   "source": [
    "Note: the above response is too critical of the user's actions and this has been a similar theme in the model responses - try to adjust the prompt to reduce this. "
   ]
  },
  {
   "cell_type": "code",
   "execution_count": 7,
   "id": "63b93861",
   "metadata": {},
   "outputs": [
    {
     "name": "stdout",
     "output_type": "stream",
     "text": [
      "Promt: Pretend to be my therapist and help me process my emotions without trying to provide solutions and provide empathy for the following scenario: Johnny broke up with me and I feel so sad... I really liked him and we have been together for 3 years now. I didn't see this coming..\n",
      "Response: {'generated_text': 'First of all, I want to congratulate you on not feeling sorry for yourself because you got dumped. Many people feel like they need to take action to fix the situation or make it better. You might want to consider that not feeling bad because you got dumped might actually be a good thing. I\\'m here to provide some insight into why you might be feeling this way and what you can do about it.\\n\\nYou went on a wonderful three year journey with Johnny. You really connected on a deep level, you developed a strong bond. It\\'s really hard to feel as if you are losing this close connection. I don\\n\\n   a couple of things that you could try. First of all, you could try taking a step back and not stressing about the future. It is not necessarily that you will get him back, it is more that you need to not focus on the ending so much and appreciate the ride so far. The \"end\" might not even be the end. Enjoy the journey so far and make the most of it.\\n\\nNext, consider that it could be that you do still like him, but maybe you need to let yourself feel this connection without needing to be in a relationship with him. Imagine him in his past relationship with you. What'}\n"
     ]
    }
   ],
   "source": [
    "userEntry = \"Johnny broke up with me and I feel so sad... I really liked him and we have been together for 3 years now. I didn't see this coming.\"\n",
    "\n",
    "prompt = f\"Pretend to be my therapist and help me process my emotions without trying to provide solutions and provide empathy for the following scenario: \"{userEntry}.\"\n",
    "\n",
    "print(f\"Promt: {prompt}\")\n",
    "\n",
    "res = generate_text(prompt)\n",
    "\n",
    "print(f\"Response: {res[0]}\")"
   ]
  },
  {
   "cell_type": "code",
   "execution_count": 8,
   "id": "f7c012da",
   "metadata": {},
   "outputs": [
    {
     "name": "stdout",
     "output_type": "stream",
     "text": [
      "Promt: Pretend to be my therapist and help me process my emotions. Do not try to provide solutions and instead provide empathy. Also, keep it under 100 words. This is the given scenario: Johnny broke up with me and I feel so sad... I really liked him and we have been together for 3 years now. I didn't see this coming..\n",
      "Response: {'generated_text': \"It feels like you just broke up with someone you've been relationship with for 3 years. That's extremely stressful and probably causes a lot of your anxiety. I'm so sorry you're feeling this way. Let's begin by addressing your current circumstances.\\n\\nFirst, it's important to realize that this isn't your fault. That you didn't create your current relationship situation, and you cannot control how someone will react. However, you can control how you react to it. It sounds like you are a loyal person, and I can see why you would be shocked and sad. When you were together, you had a significant other who cared about you, who loved you unconditionally and who probably treated you like the princess you were. When someone is that incredible and you lose that person, it feels_{(insert Italian expression to describe how you feel})\\n\\nNow that I've established it's not your fault, it's important to recognize that there are likely many reasons why this person decided to end their relationship with you. Let's try to understand what went wrong. Perhaps they were not able to adjust to the relationship, and that's a legitimate reason for them to break up with you. Perhaps they became busy in their life and now they cannot spend as much time\"}\n"
     ]
    }
   ],
   "source": [
    "userEntry = \"Johnny broke up with me and I feel so sad... I really liked him and we have been together for 3 years now. I didn't see this coming.\"\n",
    "\n",
    "prompt = f\"Pretend to be my therapist and help me process my emotions. Do not try to provide solutions and instead provide empathy. Also, keep it under 100 words. This is the given scenario: {userEntry}.\"\n",
    "\n",
    "print(f\"Promt: {prompt}\")\n",
    "\n",
    "res = generate_text(prompt)\n",
    "\n",
    "print(f\"Response: {res[0]}\")"
   ]
  },
  {
   "cell_type": "markdown",
   "id": "5af86138",
   "metadata": {},
   "source": [
    "##### Summary \n",
    "Better than before, but did not keep it uner a 100 words - try to reword prompt to make this more explicit. \n",
    "Also, whats with the italian expression?? "
   ]
  },
  {
   "cell_type": "code",
   "execution_count": 9,
   "id": "74d566ae",
   "metadata": {},
   "outputs": [
    {
     "name": "stdout",
     "output_type": "stream",
     "text": [
      "Promt: Pretend to be my therapist and help me process my emotions. Do not try to provide solutions and instead provide empathy while keeping your response under 100 words. This is the given scenario: Johnny broke up with me and I feel so sad... I really liked him and we have been together for 3 years now. I didn't see this coming..\n",
      "Response: {'generated_text': \"Johnny broke up with you and you feel sad?\\nThat's good to know. I can understand how that would make one feel. I'm sorry that you feel that way. I'll help you work through your emotions by running some scenarios through them.\\n\\nScenario 1: Johnny actually likes you and has been planning on breaking up with you all along. He just didn't have the courage to tell you because he wanted to wait until he was sure he could get over you. Now that he no longer has a reason to keep you around, he's finally had the guts to end it. \\nYou feel sad, but not surprised. \\nScenario 2: Johnny actually likes you and has been planning on breaking up with you all ELSE long. He's just been really busy and hasn't had the chance to tell you himself. He's going to have to take action and is going to tell you that he doesn't like you any longer and is going to end it soon. \\nYou feel surprised but not sad.\\nScenario 3: Johnny actually likes you and has been planning on breaking up with you since the first day he saw you. He likes you so much that he can't take the pain of not having you around and is\"}\n"
     ]
    }
   ],
   "source": [
    "userEntry = \"Johnny broke up with me and I feel so sad... I really liked him and we have been together for 3 years now. I didn't see this coming.\"\n",
    "\n",
    "prompt = f\"Pretend to be my therapist and help me process my emotions. Do not try to provide solutions and instead provide empathy while keeping your response under 100 words. This is the given scenario: {userEntry}.\"\n",
    "\n",
    "print(f\"Promt: {prompt}\")\n",
    "\n",
    "res = generate_text(prompt)\n",
    "\n",
    "print(f\"Response: {res[0]}\")"
   ]
  },
  {
   "cell_type": "markdown",
   "id": "d017f643",
   "metadata": {},
   "source": [
    "## Testing\n",
    "\n",
    "Scenario: I'm really stressed and overwhelmed with school right now. There are a lot of deliverables coming up and not a lot of time. I feel anxious and tired. There's so much to do and I don't feel like doing any of it because I feel overwhelmed. I have three this due this weekend and 2 big projects due next week. "
   ]
  },
  {
   "cell_type": "code",
   "execution_count": 10,
   "id": "252fbe00",
   "metadata": {},
   "outputs": [
    {
     "name": "stdout",
     "output_type": "stream",
     "text": [
      "Promt: Pretend to be my therapist and help me process my emotions. Do not try to provide solutions and instead provide empathy while keeping your response under 100 words. This is the given scenario: I'm really stressed and overwhelmed with school right now. There are a lot of deliverables coming up and not a lot of time. I feel anxious and tired. There's so much to do and I don't feel like doing any of it because I feel overwhelmed. I have three this due this weekend and 2 big projects due next week..\n",
      "Response: {'generated_text': \"I hear you’re feeling a bit overstressed right now. I'm really sorry to hear that. Stress is normal, but it's important to remember that it doesn't have to feel normal. There are a few things I can think of that might help alleviate your stress: 1. Ask for help - it's important to let your teachers and classmates know that you need help with schoolwork. Often kids have parents or close friends who are happy to help out when their own child needs help. 2. Find a distraction - take a walk, watch a movie or television show on your own time. 3. Find someone to vent to - a friend or family member could help you get to the root of your feelings.\"}\n"
     ]
    }
   ],
   "source": [
    "userEntry = \"I'm really stressed and overwhelmed with school right now. There are a lot of deliverables coming up and not a lot of time. I feel anxious and tired. There's so much to do and I don't feel like doing any of it because I feel overwhelmed. I have three this due this weekend and 2 big projects due next week.\"\n",
    "\n",
    "prompt = f\"Pretend to be my therapist and help me process my emotions. Do not try to provide solutions and instead provide empathy while keeping your response under 100 words. This is the given scenario: {userEntry}\"\n",
    "\n",
    "print(f\"Promt: {prompt}\")\n",
    "\n",
    "res = generate_text(prompt)\n",
    "\n",
    "print(f\"Response: {res[0]}\")"
   ]
  },
  {
   "cell_type": "code",
   "execution_count": null,
   "id": "8407683b",
   "metadata": {},
   "outputs": [
    {
     "name": "stdout",
     "output_type": "stream",
     "text": [
      "Promt: Pretend to be my therapist and help me process my emotions. Do not try to provide solutions and instead provide empathy while keeping your response under 100 words. This is the given scenario: I'm really stressed and overwhelmed with school right now. There are a lot of deliverables coming up and not a lot of time. I feel anxious and tired. There's so much to do and I don't feel like doing any of it because I feel overwhelmed. I have three this due this weekend and 2 big projects due next week.\n"
     ]
    }
   ],
   "source": [
    "userEntry = \"I'm really stressed and overwhelmed with school right now. There are a lot of deliverables coming up and not a lot of time. I feel anxious and tired. There's so much to do and I don't feel like doing any of it because I feel overwhelmed. I have three this due this weekend and 2 big projects due next week.\"\n",
    "\n",
    "prompt = f\"Pretend to be my therapist and help me process my emotions. Do not try to provide solutions and instead provide empathy while keeping your response under 100 words. This is the given scenario: {userEntry}\"\n",
    "\n",
    "print(f\"Promt: {prompt}\")\n",
    "\n",
    "res = generate_text(prompt)\n",
    "\n",
    "print(f\"Response: {res[0]}\")"
   ]
  },
  {
   "cell_type": "markdown",
   "id": "6b2a06c7",
   "metadata": {},
   "source": [
    "### Other Tests"
   ]
  },
  {
   "cell_type": "code",
   "execution_count": 29,
   "id": "6fc0c040",
   "metadata": {},
   "outputs": [
    {
     "data": {
      "text/plain": [
       "{'generated_text': 'It is hard to understand what Jonny is going through. Perhaps you could send Jonny a virtual hug or take a break from your workout and pour yourself a cold one.'}"
      ]
     },
     "execution_count": 29,
     "metadata": {},
     "output_type": "execute_result"
    }
   ],
   "source": [
    "res[0]"
   ]
  },
  {
   "cell_type": "code",
   "execution_count": 30,
   "id": "39fcb5ba",
   "metadata": {},
   "outputs": [],
   "source": [
    "response[\"entry\"].append(\"Johnny broke up with me and I feel so sad... I really liked him and we have been together for 3 years now. I didn't see this coming\")"
   ]
  },
  {
   "cell_type": "code",
   "execution_count": 39,
   "id": "78cd64e1",
   "metadata": {},
   "outputs": [
    {
     "name": "stdout",
     "output_type": "stream",
     "text": [
      "promt: Consider the following scenario: Johnny broke up with me and I feel so sad... I really liked him and we have been together for 3 years now. I didn't see this coming. Provide me with empathy and comfort.\n",
      "response: {'generated_text': \"I am so sorry to hear that your cat has died. It's always hard to lose a companion animal, but understand that they have probably spent their entire life in his company, and were likely quite happy and comfortable in that company. My intuition says that he was probably feeling sleepy and may have had a heart attack, but I could be wrong. My advice to you is to take some time to grieve your cat's loss, but also think about what might have been done to him so that you don't make the same mistake next time. Some people find comfort in detailed thinking about causes and possibilities and I recommend finding a form of this with friends or family to help you cope.\"}\n"
     ]
    }
   ],
   "source": [
    "userEntry = response[\"entry\"][-1]\n",
    "prompt = f\"Consider the following scenario: {userEntry}. Provide me with empathy and comfort.\"\n",
    "print(f\"promt: {prompt}\")\n",
    "res = generate_text(\"Jonny's cat died today, it makes me feel sad. Can you provide some empathy\")\n",
    "\n",
    "print(f\"response: {res[0]}\")"
   ]
  },
  {
   "cell_type": "code",
   "execution_count": 5,
   "id": "1981bc5f",
   "metadata": {},
   "outputs": [
    {
     "name": "stdout",
     "output_type": "stream",
     "text": [
      "[{'generated_text': \"I am so sorry to hearnar Jonny. I can understand how you would feel. My cat passed away two years ago, it was heart wrenching. I can still remember the night he passed away, how I sat on the floor, crying as I held him and told him I loved him. I can't imagine how difficult it must be to lose a loved one. Sometimes I still find myself crying when I talk about my cat, which I don't really know why. I still think about him and think of the things I used to do with him. I can imagine how you feel, and I'm so sorry to hear that Jonny.\"}]\n"
     ]
    }
   ],
   "source": [
    "res = generate_text(\"Jonny's cat died today, it makes me feel sad. Can you provide some empathy\")\n",
    "\n",
    "print(res)"
   ]
  },
  {
   "cell_type": "code",
   "execution_count": 4,
   "id": "6677e389",
   "metadata": {},
   "outputs": [],
   "source": [
    "# generate_text = \"sample text\"\n",
    "generate_text = pipeline(model=\"databricks/dolly-v2-3b\", torch_dtype=torch.bfloat16, trust_remote_code=True, device_map=\"auto\")\n"
   ]
  },
  {
   "cell_type": "markdown",
   "id": "952fecd9",
   "metadata": {},
   "source": [
    "# Pseudocode\n",
    "\n",
    "Main Function:\n",
    "\t# create / look for journal entry class (ask SS)\n",
    "\tjournal = journalParentClass # backend people will send this\n",
    "\tcreateNewJournal(userEntry)\n",
    "\n",
    "\tcheckHarmfulIntent(journalEntry)\n",
    "\n",
    "\tif journalEntry.harmfulIntent: \n",
    "\t\tbuildHarmresponse() # reach out to resources \n",
    "\t\treturn \n",
    "\t\n",
    "\treturn generate_propmt()\n",
    "\t\n",
    "\n",
    "Generate_Prompt():\n",
    "\tif type == Cathartic:\n",
    "\t\tresponse = generateCatharticResponse()\n",
    "\telse:\n",
    "\t\tresponse = generateCasualResponse()\n",
    "\tsafety_counter = 0\n",
    "\twhile(safety_counter<5):\n",
    "\t\tsafe = promptSafetyDetector(journalEntry)\n",
    "\t\tsafety_coutner ++\n",
    "\t\tif safe:\n",
    "\t\t\tbreak\n",
    "\n",
    "\tif safe:\n",
    "\t\treturn journalEntry \n",
    "\n",
    "\t# if not safe\n",
    "\t\n",
    "\treliableQuestionClassifier()\n",
    "\treturn journalEntry\n",
    "\t\n",
    "\n",
    "\n",
    "checkHarmfulIntent(journalEntry):\n",
    "\tif not harm:\n",
    "\t\tjournalEntry.harmfulIntent = False\n",
    "\t\treturn \n",
    "\t\n",
    "\tjournalEntry.harmfulIntent = True\n",
    "\n",
    "\n",
    "\n",
    "generateCasualResponse():\n",
    "\t# generate empathy \n",
    "\t# return \n",
    "\n",
    "\n",
    "generateCatharticResponse():\n",
    "\t# generate empathy\n",
    "\t# if stage = 5: call cognitive reframing\n",
    "\t# else questionmapper\n",
    "\n",
    "\t# build response using empathy and questions \n",
    "\n",
    "\t# return \n"
   ]
  }
 ],
 "metadata": {
  "kernelspec": {
   "display_name": "fydp1",
   "language": "python",
   "name": "fydp1"
  },
  "language_info": {
   "codemirror_mode": {
    "name": "ipython",
    "version": 3
   },
   "file_extension": ".py",
   "mimetype": "text/x-python",
   "name": "python",
   "nbconvert_exporter": "python",
   "pygments_lexer": "ipython3",
   "version": "3.8.5"
  }
 },
 "nbformat": 4,
 "nbformat_minor": 5
}
